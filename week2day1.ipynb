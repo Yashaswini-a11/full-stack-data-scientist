{
 "cells": [
  {
   "cell_type": "code",
   "execution_count": 11,
   "id": "adba6e93",
   "metadata": {},
   "outputs": [
    {
     "name": "stdout",
     "output_type": "stream",
     "text": [
      "Prime Numbers up to 20 are: [2, 3, 5, 7, 11, 13, 17, 19]\n"
     ]
    }
   ],
   "source": [
    "n = int(input(\"Enter the number up to which to find primes: \"))\n",
    "primes = []\n",
    "for num in range(2, n + 1):\n",
    "    is_prime = True\n",
    "    for i in range(2, int(num**0.5) + 1):\n",
    "        if num % i == 0:\n",
    "            is_prime = False\n",
    "            break\n",
    "    if is_prime:\n",
    "        primes.append(num)\n",
    "print(\"Prime Numbers up to\", n, \"are:\", primes)\n"
   ]
  },
  {
   "cell_type": "code",
   "execution_count": 27,
   "id": "a06fe0a8",
   "metadata": {},
   "outputs": [
    {
     "name": "stdout",
     "output_type": "stream",
     "text": [
      "True\n"
     ]
    }
   ],
   "source": [
    "text = input(\"Enter sentence: \").lower()\n",
    "text = text.replace(\" \", \"\")\n",
    "if text == text[::-1]:\n",
    "    print(\"True\")\n",
    "else:\n",
    "    print(\"False\")\n"
   ]
  },
  {
   "cell_type": "code",
   "execution_count": 28,
   "id": "40da6bce",
   "metadata": {},
   "outputs": [
    {
     "name": "stdout",
     "output_type": "stream",
     "text": [
      "True\n"
     ]
    }
   ],
   "source": [
    "def anagram(text1,text2):\n",
    "    text1=text1.lower()\n",
    "    text2=text2.lower()\n",
    "    if sorted(text1)==sorted(text2):\n",
    "        return True\n",
    "    else:\n",
    "        return False\n",
    "str1=input()\n",
    "str2=input()\n",
    "if anagram(str1,str2):\n",
    "    print(\"True\")\n",
    "else:\n",
    "    print(\"False\")\n"
   ]
  },
  {
   "cell_type": "code",
   "execution_count": 32,
   "id": "736f9f97",
   "metadata": {},
   "outputs": [
    {
     "name": "stdout",
     "output_type": "stream",
     "text": [
      "Vowels: 2\n",
      "Consonants: 3\n"
     ]
    }
   ],
   "source": [
    "def count_vowels_consonants(text):\n",
    "    vowels = \"aeiou\"\n",
    "    v_count = 0\n",
    "    c_count = 0\n",
    "    \n",
    "    for char in text.lower():\n",
    "        if char in vowels:\n",
    "            v_count += 1\n",
    "        elif char.isalpha():\n",
    "            c_count += 1\n",
    "            \n",
    "    return v_count, c_count\n",
    "\n",
    "sentence = input(\"Enter a sentence: \")\n",
    "vowels, consonants = count_vowels_consonants(sentence)\n",
    "\n",
    "print(\"Vowels:\", vowels)\n",
    "print(\"Consonants:\", consonants)\n"
   ]
  },
  {
   "cell_type": "code",
   "execution_count": 34,
   "id": "29f9b213",
   "metadata": {},
   "outputs": [
    {
     "name": "stdout",
     "output_type": "stream",
     "text": [
      "Longest word: amazing\n"
     ]
    }
   ],
   "source": [
    "def longest_word(text):\n",
    "    words = text.split()\n",
    "    longest = max(words, key=len)\n",
    "    return longest\n",
    "sentence = input(\"Enter a sentence: \")\n",
    "word = longest_word(sentence)\n",
    "print(\"Longest word:\", word)\n",
    "\n"
   ]
  },
  {
   "cell_type": "code",
   "execution_count": null,
   "id": "2962755a",
   "metadata": {},
   "outputs": [
    {
     "name": "stdout",
     "output_type": "stream",
     "text": [
      "Generated Password: }b}e\n"
     ]
    }
   ],
   "source": [
    "#Random Password Generator\n",
    "import random, string\n",
    "def gen_pass(length):\n",
    "    return ''.join(random.choice(string.ascii_letters + string.digits + string.punctuation) for _ in range(length))\n",
    "len1=int(input())\n",
    "leng=gen_pass(len1)\n",
    "print(\"Generated Password:\", leng)\n"
   ]
  },
  {
   "cell_type": "code",
   "execution_count": null,
   "id": "0ea805c3",
   "metadata": {},
   "outputs": [
    {
     "name": "stdout",
     "output_type": "stream",
     "text": [
      "Result: 2.0\n"
     ]
    }
   ],
   "source": [
    "#Simple Calculator with `math`\n",
    "import math\n",
    "def simple_calculator(expression):\n",
    "    if expression.startswith(\"sqrt(\"):\n",
    "        num = float(expression[5:-1])\n",
    "        return math.sqrt(num)\n",
    "    elif expression.startswith(\"factorial(\"):\n",
    "        num = int(expression[10:-1])\n",
    "        return math.factorial(num)\n",
    "    elif expression.startswith(\"sin(\"):\n",
    "        angle = float(expression[4:-1])\n",
    "        return math.sin(math.radians(angle))\n",
    "    elif expression.startswith(\"cos(\"):\n",
    "        angle = float(expression[4:-1])\n",
    "        return math.cos(math.radians(angle))\n",
    "    else:\n",
    "        return \"invalid input.\"\n",
    "expr = input(\"Enter expression\")\n",
    "result = simple_calculator(expr)\n",
    "print(\"Result:\", result)\n",
    "\n"
   ]
  },
  {
   "cell_type": "code",
   "execution_count": 40,
   "id": "6239e6c4",
   "metadata": {},
   "outputs": [
    {
     "name": "stdout",
     "output_type": "stream",
     "text": [
      "{'cat': 2, 'dog': 1}\n"
     ]
    }
   ],
   "source": [
    "#Word Frequency Counter (`collections.Counter`)\n",
    "from collections import Counter\n",
    "text=input(\"enter text\")\n",
    "words=text.split()\n",
    "freq=Counter(words)\n",
    "print(dict(freq))"
   ]
  },
  {
   "cell_type": "code",
   "execution_count": 45,
   "id": "3b86f806",
   "metadata": {},
   "outputs": [
    {
     "name": "stdout",
     "output_type": "stream",
     "text": [
      "weather : snowy , temperature : -4°C\n"
     ]
    }
   ],
   "source": [
    "# Weather Simulator (`random`)\n",
    "import random\n",
    "def weather_simulator():\n",
    "    conditions=[\"sunny\",\"rainy\",\"snowy\",\"stormy\",\"windy\"]\n",
    "    condition=random.choice(conditions)\n",
    "    temp=random.randint(-10,45)\n",
    "    print(f\"weather : {condition} , temperature : {temp}°C\")\n",
    "weather_simulator()"
   ]
  },
  {
   "cell_type": "code",
   "execution_count": 47,
   "id": "2ba51e63",
   "metadata": {},
   "outputs": [
    {
     "name": "stdout",
     "output_type": "stream",
     "text": [
      "5\n",
      "4\n",
      "3\n",
      "2\n",
      "1\n",
      "Time’s up!\n"
     ]
    }
   ],
   "source": [
    "#Timer Program (`time`)\n",
    "import time\n",
    "def timer(count):\n",
    "    for i in range(count,0,-1):\n",
    "        print(i)\n",
    "        time.sleep(0.5)\n",
    "    print(\"Time’s up!\")\n",
    "seconds=int(input())\n",
    "timer(seconds)"
   ]
  },
  {
   "cell_type": "code",
   "execution_count": null,
   "id": "ddb54d85",
   "metadata": {},
   "outputs": [
    {
     "name": "stdout",
     "output_type": "stream",
     "text": [
      "\n",
      "Bank Menu\n",
      "1. Deposit\n",
      "2. Withdraw\n",
      "3. Check Balance\n",
      "4. Exit\n",
      "None\n",
      "\n",
      "Bank Menu\n",
      "1. Deposit\n",
      "2. Withdraw\n",
      "3. Check Balance\n",
      "4. Exit\n",
      "None\n",
      "\n",
      "Bank Menu\n",
      "1. Deposit\n",
      "2. Withdraw\n",
      "3. Check Balance\n",
      "4. Exit\n",
      "Balance: 410.0\n",
      "\n",
      "Bank Menu\n",
      "1. Deposit\n",
      "2. Withdraw\n",
      "3. Check Balance\n",
      "4. Exit\n"
     ]
    }
   ],
   "source": [
    "#Bank Account Class\n",
    "class BankAccount:\n",
    "    def __init__(self, balance=0, owner=\"Unknown\"):\n",
    "        self.balance = balance\n",
    "        self.owner = owner\n",
    "    def deposit(self, amount):\n",
    "        self.balance += amount\n",
    "    def withdraw(self, amount):\n",
    "        if amount <= self.balance:\n",
    "            self.balance -= amount\n",
    "        else:\n",
    "            print(\"Insufficient amount.\")\n",
    "    def get_balance(self):\n",
    "        return f\"Balance: {self.balance}\"\n",
    "owner = input(\"Enter account holder name: \")\n",
    "initial_balance = float(input(\"Enter initial balance: \"))\n",
    "acc = BankAccount(initial_balance, owner)\n",
    "while True:\n",
    "    print(\"\\nBank Menu\")\n",
    "    print(\"1. Deposit\")\n",
    "    print(\"2. Withdraw\")\n",
    "    print(\"3. Check Balance\")\n",
    "    print(\"4. Exit\")\n",
    "    choice = input(\"Choose an option (1-4): \")\n",
    "    if choice == \"1\":\n",
    "        amount = float(input(\"Enter amount to deposit: \"))\n",
    "        acc.deposit(amount)\n",
    "    elif choice == \"2\":\n",
    "        amount = float(input(\"Enter amount to withdraw: \"))\n",
    "        acc.withdraw(amount)\n",
    "    elif choice == \"3\":\n",
    "        print(acc.get_balance())\n",
    "    elif choice == \"4\":\n",
    "        break\n",
    "    else:\n",
    "        print(\"Invalid choice. Please try again.\")\n"
   ]
  },
  {
   "cell_type": "code",
   "execution_count": 62,
   "id": "6360d9bd",
   "metadata": {},
   "outputs": [
    {
     "name": "stdout",
     "output_type": "stream",
     "text": [
      "81.25\n",
      "90.0\n",
      "67.0\n"
     ]
    }
   ],
   "source": [
    "#Student Class with Average\n",
    "class class_avg:\n",
    "    def __init__(self,name,marks):\n",
    "        self.name=name\n",
    "        self.marks=marks\n",
    "    def get_avg(self):\n",
    "        total = 0\n",
    "        count = 0\n",
    "        for mark in self.marks:\n",
    "            total += mark\n",
    "            count += 1\n",
    "        return total / count  \n",
    "    def add_mark(self,mark):\n",
    "        self.marks.append(mark)\n",
    "    def get_highest(self):\n",
    "        return max(self.marks)\n",
    "    def get_lowest(self):\n",
    "        return min(self.marks)\n",
    "name=input(\"enter name\")\n",
    "inpumarks=input(\"enter marks\")\n",
    "marks=list(map(float,inpumarks.split()))\n",
    "student = class_avg(name, marks)\n",
    "new_mark_input = input(\"Enter new mark\")\n",
    "if new_mark_input:\n",
    "    student.add_mark(float(new_mark_input))\n",
    "\n",
    "print(student.get_avg())\n",
    "print(student.get_highest())\n",
    "print(student.get_lowest())"
   ]
  },
  {
   "cell_type": "code",
   "execution_count": 65,
   "id": "ea04b2fa",
   "metadata": {},
   "outputs": [
    {
     "name": "stdout",
     "output_type": "stream",
     "text": [
      "5000\n"
     ]
    }
   ],
   "source": [
    "#Employee Bonus System\n",
    "class Employee:\n",
    "    def __init__(self, name, salary):\n",
    "        self.name = name\n",
    "        self.salary = salary\n",
    "    def bonus(self):\n",
    "        return 0\n",
    "class Manager(Employee):\n",
    "    def bonus(self):\n",
    "        return self.salary * 0.20\n",
    "class Developer(Employee):\n",
    "    def bonus(self):\n",
    "        return self.salary * 0.10\n",
    "class Intern(Employee):\n",
    "    def bonus(self):\n",
    "        return self.salary * 0.05\n",
    "name = input(\"Enter employee name: \")\n",
    "salary = float(input(\"Enter salary: \"))\n",
    "role = input(\"Enter role : \").lower()\n",
    "if role == \"manager\":\n",
    "    employee = Manager(name, salary)\n",
    "elif role == \"developer\":\n",
    "    employee = Developer(name, salary)\n",
    "elif role == \"intern\":\n",
    "    employee = Intern(name, salary)\n",
    "else:\n",
    "    print(\"Invalid role. No bonus calculated.\")\n",
    "    employee = Employee(name, salary)\n",
    "print(int(employee.bonus()))\n"
   ]
  },
  {
   "cell_type": "code",
   "execution_count": 66,
   "id": "44a5fc00",
   "metadata": {},
   "outputs": [
    {
     "name": "stdout",
     "output_type": "stream",
     "text": [
      "153.93804002589985\n",
      "20\n"
     ]
    }
   ],
   "source": [
    "#Shape Area Calculator\n",
    "import math\n",
    "class Shape:\n",
    "    def __init__(self, name):\n",
    "        self.name = name\n",
    "    def area(self):\n",
    "        return 0  \n",
    "class Circle(Shape):\n",
    "    def __init__(self, radius):\n",
    "        super().__init__(\"Circle\")\n",
    "        self.radius = radius\n",
    "    def area(self):\n",
    "        return math.pi * self.radius ** 2\n",
    "class Rectangle(Shape):\n",
    "    def __init__(self, width, height):\n",
    "        super().__init__(\"Rectangle\")\n",
    "        self.width = width\n",
    "        self.height = height\n",
    "    def area(self):\n",
    "        return self.width * self.height\n",
    "c = Circle(7)\n",
    "print(c.area()) \n",
    "r = Rectangle(4, 5)\n",
    "print(r.area())  \n"
   ]
  },
  {
   "cell_type": "code",
   "execution_count": 69,
   "id": "ebc52748",
   "metadata": {},
   "outputs": [
    {
     "name": "stdout",
     "output_type": "stream",
     "text": [
      "[0, 1, 1, 2, 3, 5, 8, 13]\n"
     ]
    }
   ],
   "source": [
    "#Fibonacci Generator\n",
    "n = int(input(\"Enter: \"))\n",
    "a, b = 0, 1\n",
    "fib = []\n",
    "for _ in range(n):\n",
    "    fib.append(a)\n",
    "    a, b = b, a + b\n",
    "print(fib)\n"
   ]
  },
  {
   "cell_type": "code",
   "execution_count": 70,
   "id": "98e9717f",
   "metadata": {},
   "outputs": [
    {
     "name": "stdout",
     "output_type": "stream",
     "text": [
      "120\n"
     ]
    }
   ],
   "source": [
    "#Factorial Using Recursion\n",
    "def factorial(n):\n",
    "    if n == 0 or n == 1:\n",
    "        return 1\n",
    "    return n * factorial(n - 1)\n",
    "num = int(input(\"Enter a number: \"))\n",
    "print(factorial(num))\n"
   ]
  },
  {
   "cell_type": "code",
   "execution_count": 71,
   "id": "dc902331",
   "metadata": {},
   "outputs": [
    {
     "name": "stdout",
     "output_type": "stream",
     "text": [
      "{'apple': 3, 'banana': 2, 'orange': 1}\n"
     ]
    }
   ],
   "source": [
    "#Unique Words Counter\n",
    "from collections import Counter\n",
    "sentence = input(\"Enter a sentence: \")\n",
    "words = sentence.split()\n",
    "word_count = Counter(words)\n",
    "print(dict(word_count))\n"
   ]
  },
  {
   "cell_type": "code",
   "execution_count": 1,
   "id": "31c499e2",
   "metadata": {},
   "outputs": [
    {
     "name": "stdout",
     "output_type": "stream",
     "text": [
      "Grade: A\n"
     ]
    }
   ],
   "source": [
    "#Grade Calculator\n",
    "marks = input(\"Enter marks : \").split()\n",
    "marks = list(map(int, marks))\n",
    "avg = sum(marks) / len(marks)\n",
    "if avg >= 90:\n",
    "    grade = \"A+\"\n",
    "elif avg >= 80:\n",
    "    grade = \"A\"\n",
    "elif avg >= 70:\n",
    "    grade = \"B\"\n",
    "elif avg >= 60:\n",
    "    grade = \"C\"\n",
    "else:\n",
    "    grade = \"F\"\n",
    "print(\"Grade:\", grade)\n"
   ]
  },
  {
   "cell_type": "code",
   "execution_count": 2,
   "id": "2f38b83a",
   "metadata": {},
   "outputs": [
    {
     "name": "stdout",
     "output_type": "stream",
     "text": [
      "Second largest: 10\n"
     ]
    }
   ],
   "source": [
    "#Second Largest Number\n",
    "nums = input(\"Enter numbers\").split()\n",
    "nums = list(map(int, nums))\n",
    "unique = list(set(nums))\n",
    "unique.sort(reverse=True)\n",
    "if len(unique) >= 2:\n",
    "    print(\"Second largest:\", unique[1])\n",
    "else:\n",
    "    print(\"Not enough numbers.\")\n"
   ]
  },
  {
   "cell_type": "code",
   "execution_count": 4,
   "id": "ebfc97f2",
   "metadata": {},
   "outputs": [
    {
     "name": "stdout",
     "output_type": "stream",
     "text": [
      "['01-09-2025', 'demo.ipynb', 'demo2.ipynb', 'hypo.ipynb', 'requirements.txt', 'week2day1.ipynb']\n",
      "Text files: 1\n",
      "Python files: 0\n"
     ]
    }
   ],
   "source": [
    "#Count Files by Extension\n",
    "import os\n",
    "files = os.listdir()\n",
    "print(files)\n",
    "txt_count = 0\n",
    "py_count = 0\n",
    "for file in files:\n",
    "    if file.endswith('.txt'):\n",
    "        txt_count += 1\n",
    "    elif file.endswith('.py'):\n",
    "        py_count += 1\n",
    "print(f\"Text files: {txt_count}\")\n",
    "print(f\"Python files: {py_count}\")\n"
   ]
  },
  {
   "cell_type": "code",
   "execution_count": 6,
   "id": "6be946ea",
   "metadata": {},
   "outputs": [
    {
     "name": "stdout",
     "output_type": "stream",
     "text": [
      "Mean = 87.86\n",
      "Median = 90\n",
      "Variance = 73.81\n"
     ]
    }
   ],
   "source": [
    "#statistics → Exam Score Analysis\n",
    "import statistics\n",
    "scores= input(\"Enter exam scores \").split()\n",
    "scores = list(map(int, scores))\n",
    "mean = statistics.mean(scores)\n",
    "median = statistics.median(scores)\n",
    "variance = statistics.variance(scores)\n",
    "print(f\"Mean = {mean:.2f}\")\n",
    "print(f\"Median = {median}\")\n",
    "print(f\"Variance = {variance:.2f}\")\n"
   ]
  },
  {
   "cell_type": "code",
   "execution_count": 7,
   "id": "fa668b9b",
   "metadata": {},
   "outputs": [
    {
     "name": "stdout",
     "output_type": "stream",
     "text": [
      "Roots are: 2.0 and 1.0\n"
     ]
    }
   ],
   "source": [
    "#`math` → Quadratic Equation Solver\n",
    "import math\n",
    "a = float(input(\"Enter coefficient a: \"))\n",
    "b = float(input(\"Enter coefficient b: \"))\n",
    "c = float(input(\"Enter coefficient c: \"))\n",
    "d = b**2 - 4*a*c\n",
    "if d > 0:\n",
    "    root1 = (-b + math.sqrt(d)) / (2*a)\n",
    "    root2 = (-b - math.sqrt(d)) / (2*a)\n",
    "    print(f\"Roots are: {root1} and {root2}\")\n",
    "elif d == 0:\n",
    "    root = -b / (2*a)\n",
    "    print(f\"Root is: {root}\")\n",
    "else:\n",
    "    print(\"No real roots.\")\n"
   ]
  },
  {
   "cell_type": "code",
   "execution_count": 11,
   "id": "9bc4dfba",
   "metadata": {},
   "outputs": [
    {
     "name": "stdout",
     "output_type": "stream",
     "text": [
      "You chose Paper, Computer chose Scissors\n",
      "You Lose!\n"
     ]
    }
   ],
   "source": [
    "#random` → Rock Paper Scissors Game\n",
    "import random\n",
    "options = [\"Rock\", \"Paper\", \"Scissors\"]\n",
    "user_choice = input(\"Enter your choice \").capitalize()\n",
    "computer_choice = random.choice(options)\n",
    "print(f\"You chose {user_choice}, Computer chose {computer_choice}\")\n",
    "if user_choice == computer_choice:\n",
    "    print(\"It's a Tie!\")\n",
    "elif (user_choice == \"Rock\" and computer_choice == \"Scissors\") or (user_choice == \"Paper\" and computer_choice == \"Rock\") or (user_choice == \"Scissors\" and computer_choice == \"Paper\"):\n",
    "    print(\"You Win!\")\n",
    "elif user_choice in options:\n",
    "    print(\"You Lose!\")\n",
    "else:\n",
    "    print(\"Invalid choice! Please enter Rock, Paper, or Scissors.\")\n"
   ]
  },
  {
   "cell_type": "code",
   "execution_count": 13,
   "id": "92c44321",
   "metadata": {},
   "outputs": [
    {
     "name": "stdout",
     "output_type": "stream",
     "text": [
      "\n",
      "Available Books:\n",
      "The Alchemist — 3 copies\n",
      "1984 — 2 copies\n",
      "Python Basics — 4 copies\n",
      "To Kill a Mockingbird — 1 copies\n",
      "You borrowed '1984'\n",
      "You borrowed 'Python Basics'\n",
      "You returned '1984'\n",
      "\n",
      "Available Books:\n",
      "The Alchemist — 3 copies\n",
      "1984 — 2 copies\n",
      "Python Basics — 3 copies\n",
      "To Kill a Mockingbird — 1 copies\n"
     ]
    }
   ],
   "source": [
    "#Library System\n",
    "class Library:\n",
    "    def __init__(self):\n",
    "        self.books = {\n",
    "            \"The Alchemist\": 3,\n",
    "            \"1984\": 2,\n",
    "            \"Python Basics\": 4,\n",
    "            \"To Kill a Mockingbird\": 1\n",
    "        }\n",
    "    def borrow(self, title):\n",
    "        if title in self.books and self.books[title] > 0:\n",
    "            self.books[title] -= 1\n",
    "            print(f\"You borrowed '{title}'\")\n",
    "        else:\n",
    "            print(f\"'{title}' is not available right now.\")\n",
    "    def return_book(self, title):\n",
    "        if title in self.books:\n",
    "            self.books[title] += 1\n",
    "        else:\n",
    "            self.books[title] = 1\n",
    "        print(f\"You returned '{title}'\")\n",
    "    def show_books(self):\n",
    "        print(\"\\nAvailable Books:\")\n",
    "        for title, copies in self.books.items():\n",
    "            print(f\"{title} — {copies} copies\")\n",
    "lib = Library()\n",
    "lib.show_books()\n",
    "lib.borrow(\"1984\")\n",
    "lib.borrow(\"Python Basics\")\n",
    "lib.return_book(\"1984\")\n",
    "lib.show_books()\n"
   ]
  },
  {
   "cell_type": "code",
   "execution_count": 14,
   "id": "0d880a41",
   "metadata": {},
   "outputs": [
    {
     "name": "stdout",
     "output_type": "stream",
     "text": [
      "Access Granted\n",
      "Deposited 200\n",
      "Withdrew 100\n",
      "Balance: 600\n"
     ]
    }
   ],
   "source": [
    "# ATM Machine with PIN\n",
    "class ATM:\n",
    "    def __init__(self, pin, balance=0):\n",
    "        self.pin = pin\n",
    "        self.balance = balance\n",
    "        self.is_authenticated = False\n",
    "    def login(self, entered_pin):\n",
    "        if entered_pin == self.pin:\n",
    "            self.is_authenticated = True\n",
    "            return \"Access Granted\"\n",
    "        else:\n",
    "            return \"Invalid PIN\"\n",
    "    def check_balance(self):\n",
    "        if self.is_authenticated:\n",
    "            return f\"Balance: {self.balance}\"\n",
    "        else:\n",
    "            return \"Please login first\"\n",
    "    def deposit(self, amount):\n",
    "        if self.is_authenticated:\n",
    "            self.balance += amount\n",
    "            return f\"Deposited {amount}\"\n",
    "        else:\n",
    "            return \"Please login first\"\n",
    "    def withdraw(self, amount):\n",
    "        if not self.is_authenticated:\n",
    "            return \"Please login first\"\n",
    "        if amount > self.balance:\n",
    "            return \"Insufficient Balance\"\n",
    "        else:\n",
    "            self.balance -= amount\n",
    "            return f\"Withdrew {amount}\"\n",
    "atm = ATM(1234, 500)\n",
    "print(atm.login(1234))\n",
    "print(atm.deposit(200))\n",
    "print(atm.withdraw(100))\n",
    "print(atm.check_balance())"
   ]
  },
  {
   "cell_type": "code",
   "execution_count": null,
   "id": "4ac22448",
   "metadata": {},
   "outputs": [
    {
     "name": "stdout",
     "output_type": "stream",
     "text": [
      "Booked 2 tickets for Avatar\n",
      "Cancelled 1 tickets for Avatar\n",
      "Movies: {'Avatar': 9, 'Batman': 5}\n"
     ]
    }
   ],
   "source": [
    "#Movie Ticket Booking\n",
    "class Cinema:\n",
    "    def __init__(self, movies):\n",
    "        self.movies = movies\n",
    "    def book(self, movie, seats):\n",
    "        if movie in self.movies and self.movies[movie] >= seats:\n",
    "            self.movies[movie] -= seats\n",
    "            return f\"Booked {seats} tickets for {movie}\"\n",
    "        else:\n",
    "            return f\"Not enough seats or movie not found\"\n",
    "    def cancel(self, movie, seats):\n",
    "        if movie in self.movies:\n",
    "            self.movies[movie] += seats\n",
    "            return f\"Cancelled {seats} tickets for {movie}\"\n",
    "        else:\n",
    "            return \"Movie not found\"\n",
    "    def show_movies(self):\n",
    "        print(\"Movies:\", self.movies)\n",
    "cinema = Cinema({\"Avatar\": 10, \"Batman\": 5})\n",
    "print(cinema.book(\"Avatar\", 2))\n",
    "print(cinema.cancel(\"Avatar\", 1))\n",
    "cinema.show_movies()\n"
   ]
  },
  {
   "cell_type": "code",
   "execution_count": null,
   "id": "e56401ca",
   "metadata": {},
   "outputs": [
    {
     "name": "stdout",
     "output_type": "stream",
     "text": [
      "Burger added\n",
      "Pizza added\n",
      "Pizza price updated to 250\n",
      "Burger removed\n",
      "Menu: {'Pizza': 250}\n"
     ]
    }
   ],
   "source": [
    "#Restaurant Menu\n",
    "class Menu:\n",
    "    def __init__(self):\n",
    "        self.items = {}\n",
    "    def add_item(self, name, price):\n",
    "        self.items[name] = price\n",
    "        return f\"{name} added\"\n",
    "    def remove_item(self, name):\n",
    "        if name in self.items:\n",
    "            del self.items[name]\n",
    "            return f\"{name} removed\"\n",
    "        else:\n",
    "            return f\"{name} not found\"\n",
    "    def update_price(self, name, new_price):\n",
    "        if name in self.items:\n",
    "            self.items[name] = new_price\n",
    "            return f\"{name} price updated to {new_price}\"\n",
    "        else:\n",
    "            return f\"{name} not found\"\n",
    "    def show_menu(self):\n",
    "        print(\"Menu:\", self.items)\n",
    "menu = Menu()\n",
    "print(menu.add_item(\"Burger\", 100))\n",
    "print(menu.add_item(\"Pizza\", 200))\n",
    "print(menu.update_price(\"Pizza\", 250))\n",
    "print(menu.remove_item(\"Burger\"))\n",
    "menu.show_menu()"
   ]
  },
  {
   "cell_type": "code",
   "execution_count": null,
   "id": "b5e41cdc",
   "metadata": {},
   "outputs": [],
   "source": []
  }
 ],
 "metadata": {
  "kernelspec": {
   "display_name": "Python 3",
   "language": "python",
   "name": "python3"
  },
  "language_info": {
   "codemirror_mode": {
    "name": "ipython",
    "version": 3
   },
   "file_extension": ".py",
   "mimetype": "text/x-python",
   "name": "python",
   "nbconvert_exporter": "python",
   "pygments_lexer": "ipython3",
   "version": "3.11.0"
  }
 },
 "nbformat": 4,
 "nbformat_minor": 5
}
