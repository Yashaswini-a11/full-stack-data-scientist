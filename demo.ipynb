{
 "cells": [
  {
   "cell_type": "code",
   "execution_count": 14,
   "id": "db137049",
   "metadata": {},
   "outputs": [
    {
     "name": "stdout",
     "output_type": "stream",
     "text": [
      "34 is not a prime number\n"
     ]
    }
   ],
   "source": [
    "num=int(input())\n",
    "flag=False\n",
    "if num==0 or num==1:\n",
    "    print(num, \"is not a prime number\")\n",
    "elif num>1:\n",
    "    for i in range(2,num):\n",
    "        if (num%i)==0:\n",
    "            flag=True\n",
    "            break\n",
    "    if flag:\n",
    "        print(num,\"is not a prime number\")\n",
    "    else:\n",
    "        print(num,\"is a prime number\")"
   ]
  },
  {
   "cell_type": "code",
   "execution_count": 15,
   "id": "30181c55",
   "metadata": {},
   "outputs": [
    {
     "name": "stdout",
     "output_type": "stream",
     "text": [
      "second highest number is  34\n"
     ]
    }
   ],
   "source": [
    "input_st=input()\n",
    "num=[int(x) for x in input_st.split()]\n",
    "uniq_num=list(set(num))\n",
    "if len(uniq_num)<2:\n",
    "    print(\"there is no second highest number\")\n",
    "else:\n",
    "    uniq_num.sort()\n",
    "    print(\"second highest number is \",uniq_num[-2])"
   ]
  },
  {
   "cell_type": "code",
   "execution_count": 16,
   "id": "4a0fc700",
   "metadata": {},
   "outputs": [
    {
     "name": "stdout",
     "output_type": "stream",
     "text": [
      "sum of even numbers from 1 to 50  650\n"
     ]
    }
   ],
   "source": [
    "sum=0\n",
    "for i in range(1,51):\n",
    "    if(i%2==0):\n",
    "        sum+=i\n",
    "print(\"sum of even numbers from 1 to 50 \",sum)"
   ]
  },
  {
   "cell_type": "code",
   "execution_count": 17,
   "id": "232709d6",
   "metadata": {},
   "outputs": [
    {
     "name": "stdout",
     "output_type": "stream",
     "text": [
      "Uppercase characters: 3\n",
      "Lowercase characters: 3\n"
     ]
    }
   ],
   "source": [
    "text=input()\n",
    "lowercase_count=0\n",
    "uppercase_count=0\n",
    "for char in text:\n",
    "    if char.isupper():\n",
    "        uppercase_count+=1\n",
    "    elif char.islower():\n",
    "        lowercase_count+=1\n",
    "print(\"Uppercase characters:\", uppercase_count)\n",
    "print(\"Lowercase characters:\", lowercase_count)"
   ]
  },
  {
   "cell_type": "code",
   "execution_count": 19,
   "id": "86c61005",
   "metadata": {},
   "outputs": [
    {
     "name": "stdout",
     "output_type": "stream",
     "text": [
      "Fibonacci sequence:\n",
      "0 1 1 2 3 5 8 13 21 "
     ]
    }
   ],
   "source": [
    "n = int(input(\"Enter the number of terms: \"))\n",
    "a, b = 0, 1\n",
    "print(\"Fibonacci sequence:\")\n",
    "for i in range(n):\n",
    "    print(a, end=\" \")\n",
    "    a, b = b, a + b"
   ]
  },
  {
   "cell_type": "code",
   "execution_count": 21,
   "id": "d67d1a8f",
   "metadata": {},
   "outputs": [
    {
     "name": "stdout",
     "output_type": "stream",
     "text": [
      "The words are NOT anagrams.\n"
     ]
    }
   ],
   "source": [
    "str1 = input(\"Enter the first word: \").lower()\n",
    "str2 = input(\"Enter the second word: \").lower()\n",
    "if sorted(str1) == sorted(str2):\n",
    "    print(\"The words are anagrams.\")\n",
    "else:\n",
    "    print(\"The words are NOT anagrams.\")\n"
   ]
  },
  {
   "cell_type": "code",
   "execution_count": 23,
   "id": "d760466f",
   "metadata": {},
   "outputs": [
    {
     "name": "stdout",
     "output_type": "stream",
     "text": [
      "28 is a perfect number.\n"
     ]
    }
   ],
   "source": [
    "num = int(input(\"Enter a number: \"))\n",
    "sumof_div = 0\n",
    "for i in range(1, num):\n",
    "    if num % i == 0:\n",
    "        sumof_div += i\n",
    "if sumof_div == num:\n",
    "    print(num, \"is a perfect number.\")\n",
    "else:\n",
    "    print(num, \"is NOT a perfect number.\")\n"
   ]
  },
  {
   "cell_type": "code",
   "execution_count": 32,
   "id": "18d39d69",
   "metadata": {},
   "outputs": [
    {
     "name": "stdout",
     "output_type": "stream",
     "text": [
      "\n",
      "Total Marks: 281.0/500\n",
      "Percentage: 56.20%\n",
      "Grade: C\n"
     ]
    }
   ],
   "source": [
    "marks = []\n",
    "for i in range(1, 6):\n",
    "    mark = float(input())\n",
    "    marks.append(mark)\n",
    "total_marks = 0\n",
    "for mark in marks:\n",
    "    total_marks += mark\n",
    "percentage = (total_marks / 500) * 100\n",
    "if percentage >= 90:\n",
    "    grade = 'A'\n",
    "elif percentage >= 75:\n",
    "    grade = 'B'\n",
    "elif percentage >= 50:\n",
    "    grade = 'C'\n",
    "else:\n",
    "    grade = 'Fail'\n",
    "print(f\"\\nTotal Marks: {total_marks}/500\")\n",
    "print(f\"Percentage: {percentage:.2f}%\")\n",
    "print(f\"Grade: {grade}\")\n"
   ]
  },
  {
   "cell_type": "code",
   "execution_count": 33,
   "id": "4e41dc44",
   "metadata": {},
   "outputs": [
    {
     "name": "stdout",
     "output_type": "stream",
     "text": [
      "2 3 5 7 11 13 17 19 23 29 31 37 41 43 47 53 59 61 67 71 73 79 83 89 97 "
     ]
    }
   ],
   "source": [
    "for num in range(2, 101):\n",
    "    is_prime = True\n",
    "    for i in range(2, num):\n",
    "        if num % i == 0:\n",
    "            is_prime = False\n",
    "            break\n",
    "    if is_prime:\n",
    "        print(num, end=\" \")\n"
   ]
  },
  {
   "cell_type": "code",
   "execution_count": null,
   "id": "0edbcf3a",
   "metadata": {},
   "outputs": [],
   "source": [
    "sentence = input()\n",
    "word_count = 0\n",
    "in_word = False\n",
    "for char in sentence:\n",
    "    if char != \" \" and not in_word:\n",
    "        word_count += 1\n",
    "        in_word = True\n",
    "    elif char == \" \":\n",
    "        in_word = False\n",
    "print(\"Number of words:\", word_count)"
   ]
  }
 ],
 "metadata": {
  "kernelspec": {
   "display_name": "venv",
   "language": "python",
   "name": "python3"
  },
  "language_info": {
   "codemirror_mode": {
    "name": "ipython",
    "version": 3
   },
   "file_extension": ".py",
   "mimetype": "text/x-python",
   "name": "python",
   "nbconvert_exporter": "python",
   "pygments_lexer": "ipython3",
   "version": "3.11.0"
  }
 },
 "nbformat": 4,
 "nbformat_minor": 5
}
